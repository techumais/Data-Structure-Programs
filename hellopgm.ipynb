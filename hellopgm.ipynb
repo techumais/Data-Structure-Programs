{
 "cells": [
  {
   "cell_type": "code",
   "execution_count": 1,
   "metadata": {},
   "outputs": [
    {
     "name": "stdout",
     "output_type": "stream",
     "text": [
      "hello niha\n"
     ]
    }
   ],
   "source": [
    "print(\"hello niha\")"
   ]
  },
  {
   "cell_type": "code",
   "execution_count": 4,
   "metadata": {},
   "outputs": [
    {
     "name": "stdout",
     "output_type": "stream",
     "text": [
      "before swapping a value is 10\n",
      "before swapping b value is 20\n",
      "after swapping a value is 20\n",
      "after swapping b value is 10\n"
     ]
    }
   ],
   "source": [
    "#swapping two numbers using third varible:\n",
    "a= 10\n",
    "b =20\n",
    "\n",
    "print(\"before swapping a value is \" + str(a))\n",
    "print(\"before swapping b value is \" + str(b))\n",
    "\n",
    "\n",
    "t = a\n",
    "a = b\n",
    "b = t\n",
    "\n",
    "print(\"after swapping a value is \" + str(a))\n",
    "print(\"after swapping b value is \" + str(b))"
   ]
  },
  {
   "cell_type": "markdown",
   "metadata": {},
   "source": [
    "# Bubble Sort algorithm"
   ]
  },
  {
   "cell_type": "markdown",
   "metadata": {},
   "source": [
    "first bubble sort"
   ]
  },
  {
   "cell_type": "code",
   "execution_count": 6,
   "metadata": {},
   "outputs": [
    {
     "name": "stdout",
     "output_type": "stream",
     "text": [
      "[1, 2, 3, 4, 5, 6, 7, 8, 9]\n"
     ]
    }
   ],
   "source": [
    "# sorting in accending order\n",
    "a = [5,7,8,4,9,3,2,6,1]\n",
    "\n",
    "for i in range(1, 10):\n",
    "    for j in range(0,len(a)-i):\n",
    "        if(a[j] > a[j+1]):\n",
    "            t = a[j]\n",
    "            a[j] = a[j+1]\n",
    "            a[j+1] = t\n",
    "print(a)"
   ]
  },
  {
   "cell_type": "code",
   "execution_count": 7,
   "metadata": {},
   "outputs": [
    {
     "name": "stdout",
     "output_type": "stream",
     "text": [
      "[9, 8, 7, 6, 5, 4, 3, 2, 1]\n"
     ]
    }
   ],
   "source": [
    "# sorting in desending order\n",
    "a = [5,7,8,4,9,3,2,6,1]\n",
    "\n",
    "for i in range(1, 10):\n",
    "    for j in range(0,len(a)-i):\n",
    "        if(a[j] < a[j+1]):\n",
    "            t = a[j]\n",
    "            a[j] = a[j+1]\n",
    "            a[j+1] = t\n",
    "print(a)"
   ]
  },
  {
   "cell_type": "code",
   "execution_count": 8,
   "metadata": {},
   "outputs": [
    {
     "name": "stdout",
     "output_type": "stream",
     "text": [
      "1 is the min value at index 8\n"
     ]
    }
   ],
   "source": [
    "#3. finding  the smallest values in the array / list\n",
    "a = [5,7,8,4,9,3,2,6,1]\n",
    "\n",
    "min = a[0]\n",
    "minindex = 0\n",
    "\n",
    "for i in range(0, len(a)):\n",
    "    if( min > a[i]):\n",
    "        min = a[i]\n",
    "        minindex = i\n",
    "        \n",
    "print(\"{} is the min value at index {}\".format(min, minindex))"
   ]
  },
  {
   "cell_type": "code",
   "execution_count": 9,
   "metadata": {},
   "outputs": [
    {
     "name": "stdout",
     "output_type": "stream",
     "text": [
      "9 is the largest value at index 4\n"
     ]
    }
   ],
   "source": [
    "#3. finding  the largest values in the array / list\n",
    "a = [5,7,8,4,9,3,2,6,1]\n",
    "\n",
    "largest = a[0]\n",
    "largestindex = 0\n",
    "\n",
    "for i in range(0, len(a)):\n",
    "    if( largest < a[i]):\n",
    "        largest = a[i]\n",
    "        largestindex = i\n",
    "        \n",
    "print(\"{} is the largest value at index {}\".format(largest, largestindex))"
   ]
  },
  {
   "cell_type": "markdown",
   "metadata": {},
   "source": [
    "# selection sort:-"
   ]
  },
  {
   "cell_type": "code",
   "execution_count": 13,
   "metadata": {},
   "outputs": [
    {
     "name": "stdout",
     "output_type": "stream",
     "text": [
      "[-3, 1, 2, 2, 4, 4, 5, 6, 7, 8, 56, 76, 99, 656]\n"
     ]
    }
   ],
   "source": [
    "def min(a, i):\n",
    "    minvalue = a[i]\n",
    "    minindex = i\n",
    "    \n",
    "    for j in range(i, len(a)):\n",
    "        if (minvalue > a[j]):\n",
    "            minvalue = a[j]\n",
    "            minindex = j\n",
    "    return minindex\n",
    "\n",
    "\n",
    "a = [6,4,2,56,7,8,4,2,1,5,99,656,-3,76]\n",
    "\n",
    "for j in range(0, len(a)):\n",
    "    minindex = min(a,j)\n",
    "    t = a[j]\n",
    "    a[j] = a[minindex]\n",
    "    a[minindex] = t\n",
    "\n",
    "print(a)"
   ]
  },
  {
   "cell_type": "code",
   "execution_count": null,
   "metadata": {},
   "outputs": [],
   "source": []
  }
 ],
 "metadata": {
  "kernelspec": {
   "display_name": "Python 3",
   "language": "python",
   "name": "python3"
  },
  "language_info": {
   "codemirror_mode": {
    "name": "ipython",
    "version": 3
   },
   "file_extension": ".py",
   "mimetype": "text/x-python",
   "name": "python",
   "nbconvert_exporter": "python",
   "pygments_lexer": "ipython3",
   "version": "3.7.4"
  }
 },
 "nbformat": 4,
 "nbformat_minor": 2
}
